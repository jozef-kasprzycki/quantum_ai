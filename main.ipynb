{
 "cells": [
  {
   "cell_type": "markdown",
   "metadata": {},
   "source": [
    "# Hackyeach\n",
    "QubitFreaks"
   ]
  }
 ],
 "metadata": {
  "kernelspec": {
   "display_name": "Python (IBM_Quantum)",
   "language": "python",
   "name": ".venv"
  },
  "language_info": {
   "name": "python",
   "version": "3.9.2"
  }
 },
 "nbformat": 4,
 "nbformat_minor": 2
}
